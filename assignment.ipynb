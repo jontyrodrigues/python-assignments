{
 "cells": [
  {
   "cell_type": "code",
   "execution_count": 7,
   "metadata": {},
   "outputs": [],
   "source": [
    "# open dipole.txt and read the file\n",
    "f = open(\"dipole.txt\", \"r\")\n",
    "# read the file\n",
    "text = f.read()\n",
    "# close the file\n",
    "f.close()\n",
    "# read the file line by line\n",
    "lines = text.split(\"\\n\")\n",
    "# read each line\n",
    "for line in lines:\n",
    "    # split the line into words\n",
    "    words = line.split()\n",
    "    # if the line is not empty\n",
    "    if len(words) > 0:\n",
    "        # if the second word has a value greater than 1 then add the line to a list\n",
    "        if float(words[1]) > 1:\n",
    "            # add the line into a new file called greater_than_one.txt\n",
    "            f = open(\"greater.txt\", \"a\")\n",
    "            f.write(line + \"\\n\")\n",
    "            f.close()\n",
    "        # if the second word has a value less than 1 then add the line to a list\n",
    "        elif float(words[1]) < 1:\n",
    "            # add the line into a new file called less_than_one.txt\n",
    "            f = open(\"lower.txt\", \"a\")\n",
    "            f.write(line + \"\\n\")\n",
    "            f.close()\n",
    "        else :\n",
    "            continue\n",
    "        # if the second word has a value equal to 1 or 0 less than 0  then ignore it\n",
    "\n"
   ]
  },
  {
   "cell_type": "code",
   "execution_count": 8,
   "metadata": {},
   "outputs": [
    {
     "name": "stdout",
     "output_type": "stream",
     "text": [
      "0.0470486758782393\n",
      "0.050569786776365325\n",
      "0.06543616241201419\n",
      "0.06475223490877627\n"
     ]
    }
   ],
   "source": [
    "import numpy as np\n",
    "# solve a cubic equation ax^3 + bx^2 + cx + d = 0 using the method of cubics roots\n",
    "def find_v(a,b,P,R,T):\n",
    "    coefficient = np.array([1,-(b+(R*T/P)),(a/P),-a*b/P])\n",
    "    roots = np.roots(coefficient)\n",
    "    for i in roots:\n",
    "        if i.imag == 0:\n",
    "            return i.real\n",
    "# open the file real_gas.txt\n",
    "f = open(\"real_gas.txt\", \"r\")\n",
    "# read the file\n",
    "text = f.read()\n",
    "# close the file\n",
    "f.close()\n",
    "# read the file line by line\n",
    "lines = text.split(\"\\n\")\n",
    "# read each line\n",
    "for line in lines:\n",
    "    # skip the first line\n",
    "    if line == lines[0]:\n",
    "        continue\n",
    "    # split the line into words\n",
    "    words = line.split()\n",
    "    # if the line is not empty\n",
    "    if len(words) > 0:\n",
    "        # add the first word of the line to a variable called temperature\n",
    "        temperature = words[0]\n",
    "        # add the second word of the line to a variable called pressure\n",
    "        pressure = words[1]\n",
    "        print(find_v(3.592,4.267*10**-2,float(pressure),0.082,float(temperature)))\n",
    "\n"
   ]
  },
  {
   "cell_type": "code",
   "execution_count": 9,
   "metadata": {},
   "outputs": [
    {
     "name": "stdout",
     "output_type": "stream",
     "text": [
      "0.18146064392463243\n",
      "0.4944095326598713\n",
      "0.9021307129816238\n",
      "1.347073286516485\n",
      "1.793758227766464\n",
      "2.2235321735020417\n",
      "2.6278111389529633\n",
      "3.003549088963961\n"
     ]
    },
    {
     "data": {
      "image/png": "[encoded data removed]",
      "text/plain": [
       "<Figure size 144x144 with 1 Axes>"
      ]
     },
     "metadata": {
      "needs_background": "light"
     },
     "output_type": "display_data"
    },
    {
     "data": {
      "image/png": "[encoded data removed]",
      "text/plain": [
       "<Figure size 144x144 with 1 Axes>"
      ]
     },
     "metadata": {
      "needs_background": "light"
     },
     "output_type": "display_data"
    }
   ],
   "source": [
    "import math\n",
    "import numpy as np\n",
    "import matplotlib.pyplot as plt\n",
    "# k = A*e**(-Ea/R*T)\n",
    "def find_k(A, Ea, R, T):\n",
    "    k = A*math.exp(-Ea/(R*T))\n",
    "    return k\n",
    "# find the k value for each of the following value of T\n",
    "# T = 300, 400, 500, 600, 700, 800, 900, 1000\n",
    "plt.style.use('_mpl-gallery')\n",
    "\n",
    "def plot(T, k_list):\n",
    "    # find min and max of k_list\n",
    "    min_k = min(k_list)\n",
    "    max_k = max(k_list)\n",
    "    # find min and max of T\n",
    "    min_T = min(T)\n",
    "    max_T = max(T)\n",
    "    fig, ax = plt.subplots()\n",
    "    ax.plot(T, k_list, linewidth=2.0)\n",
    "    ax.set_xlabel('Temperature (K)')\n",
    "    ax.set_ylabel('k (cm^3/mol)')\n",
    "    ax.set_title('k vs. Temperature')\n",
    "    ax.set(xlim=(min_T, max_T), ylim=(min_k, max_k))\n",
    "    ax.grid(True)\n",
    "    plt.show()\n",
    "\n",
    "k_list = []\n",
    "T_list = []\n",
    "T_inv_list = []\n",
    "\n",
    "for T in [300, 400, 500, 600, 700, 800, 900, 1000]:\n",
    "    print(find_k(10, 10000, 8.314, T))\n",
    "    # add the k value to the list\n",
    "    k_list.append(find_k(10, 10000, 8.314, T))\n",
    "    # add the value of k to the list\n",
    "    T_list.append(T)\n",
    "    # add the value of 1/T to a list called T_inv_list\n",
    "    T_inv_list.append(1/T)\n",
    "\n",
    "plot(T_list, k_list)\n",
    "plot(T_inv_list, k_list)\n",
    "\n",
    "\n",
    "\n",
    "    \n"
   ]
  },
  {
   "cell_type": "code",
   "execution_count": 10,
   "metadata": {},
   "outputs": [
    {
     "data": {
      "image/png": "[encoded data removed]",
      "text/plain": [
       "<Figure size 144x144 with 1 Axes>"
      ]
     },
     "metadata": {
      "needs_background": "light"
     },
     "output_type": "display_data"
    }
   ],
   "source": [
    "import numpy as np\n",
    "import matplotlib.pyplot as plt\n",
    "\n",
    "# Define some initial parameters\n",
    "# rate of change of the time step\n",
    "dt = 50 \n",
    "# define total time\n",
    "total_time = 10**6\n",
    "# set sigma\n",
    "sigma = 6.69\n",
    "# set epsilon\n",
    "epsilon = 8.71*10**-4\n",
    "# set the initial position of particle\n",
    "x = 7\n",
    "# set the initial velocity of particle\n",
    "v = 0\n",
    "# calculate the no of steps\n",
    "steps = int(total_time / dt)\n",
    "# mass of the particle\n",
    "mass = 145123\n",
    "# initialize a list to store the position of particle\n",
    "position = []\n",
    "# initialize a list to store the time step\n",
    "time = []\n",
    "\n",
    "plt.style.use('_mpl-gallery')\n",
    "\n",
    "def plot(time, position):\n",
    "    # find min and max of k_list\n",
    "    min_y = min(position)\n",
    "    max_y = max(position)\n",
    "    # find min and max of T\n",
    "    min_x = min(time)\n",
    "    max_x = max(time)\n",
    "    fig, ax = plt.subplots()\n",
    "    ax.plot(time, position, linewidth=2.0)\n",
    "    ax.set_xlabel('Time (s)')\n",
    "    ax.set_ylabel('Position (a.u.)')\n",
    "    ax.set_title('time vs. position')\n",
    "    ax.set(xlim=(min_x, max_x), ylim=(min_y, max_y))\n",
    "    ax.grid(True)\n",
    "    plt.show()\n",
    "\n",
    "\n",
    "# Define the function of lpj \n",
    "# referenced from https://pythoninchemistry.org/sim_and_scat/molecular_dynamics/intro.html\n",
    "# referenced from Martínez, L.; Andrade, R.; Birgin, E. G.; Martínez, J. M. J. Comput. Chem. 2009, 30 (13), 2157–2164. 10.1002/jcc.21224.\n",
    "def lj_force(r, epsilon, sigma):\n",
    "    # Calculate the force of lj\n",
    "    return 48 * epsilon * np.power(\n",
    "        sigma, 12) / np.power(\n",
    "        r, 13) - 24 * epsilon * np.power(\n",
    "        sigma, 6) / np.power(r, 7)\n",
    "\n",
    "for i in range(0, steps):\n",
    "    # Calculate the force of lj\n",
    "    force = lj_force(x, epsilon, sigma)\n",
    "    # Calculate the acceleration\n",
    "    acceleration = force / mass\n",
    "    # Calculate the velocity\n",
    "    v = v + acceleration * dt\n",
    "    # Calculate the position\n",
    "    x = x + v * dt\n",
    "    # add the position to the list\n",
    "    position.append(x)\n",
    "    # add the time step to the list\n",
    "    time.append(i * dt)\n",
    "\n",
    "# plot the position of particle vs time\n",
    "plot(time, position)\n",
    "\n"
   ]
  },
  {
   "cell_type": "code",
   "execution_count": 11,
   "metadata": {},
   "outputs": [
    {
     "name": "stdout",
     "output_type": "stream",
     "text": [
      "The wavelength is 12.670220364170016\n"
     ]
    }
   ],
   "source": [
    "# n*lambda = 2*d*sin(theta) d = a/sqrt(h**2+k**2+l**2) take a from user\n",
    "import math\n",
    "def main():\n",
    "    a = float(input(\"Enter the length of the side of the cube: \"))\n",
    "    # find the value of d from a using the formula d = a/sqrt(h**2+k**2+l**2)\n",
    "    # as h = 1, k = 1, l = 0 the formula is d = a/sqrt(2)\n",
    "    d = a/2**0.5\n",
    "    # find the value of lambda from d using the formula lambda = 2*d*sin(theta) \n",
    "    # where n = 1, theta = pi/180*21 as theta = 21 degrees\n",
    "    lam = 2*d*math.sin(21*math.pi/180)/1\n",
    "    print(\"The wavelength is\", lam)\n",
    "\n",
    "if __name__ == \"__main__\":\n",
    "    main()"
   ]
  }
 ],
 "metadata": {
  "interpreter": {
   "hash": "2be5faf79681da6f2a61fdfdd5405d65d042280f7fba6178067603e3a2925119"
  },
  "kernelspec": {
   "display_name": "Python 3.10.0 64-bit",
   "language": "python",
   "name": "python3"
  },
  "language_info": {
   "codemirror_mode": {
    "name": "ipython",
    "version": 3
   },
   "file_extension": ".py",
   "mimetype": "text/x-python",
   "name": "python",
   "nbconvert_exporter": "python",
   "pygments_lexer": "ipython3",
   "version": "3.10.0"
  },
  "orig_nbformat": 4
 },
 "nbformat": 4,
 "nbformat_minor": 2
}
